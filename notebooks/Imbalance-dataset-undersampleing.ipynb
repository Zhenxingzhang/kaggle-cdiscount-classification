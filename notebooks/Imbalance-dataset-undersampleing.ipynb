{
 "cells": [
  {
   "cell_type": "code",
   "execution_count": 14,
   "metadata": {},
   "outputs": [],
   "source": [
    "import bson\n",
    "from tqdm import tqdm\n",
    "from collections import Counter"
   ]
  },
  {
   "cell_type": "code",
   "execution_count": 9,
   "metadata": {},
   "outputs": [],
   "source": [
    "bson_path = \"/data/data/train_example.bson\"\n",
    "n = 82"
   ]
  },
  {
   "cell_type": "code",
   "execution_count": 11,
   "metadata": {},
   "outputs": [
    {
     "name": "stderr",
     "output_type": "stream",
     "text": [
      "100%|██████████| 82/82 [00:00<00:00, 33675.99it/s]\n"
     ]
    }
   ],
   "source": [
    "data = bson.decode_file_iter(open(bson_path, 'rb'))\n",
    "\n",
    "category_ids = []\n",
    "for c, d in tqdm(enumerate(data), total=n):\n",
    "    category_ids.append(d[\"category_id\"])"
   ]
  },
  {
   "cell_type": "code",
   "execution_count": 16,
   "metadata": {},
   "outputs": [
    {
     "data": {
      "text/plain": [
       "[(1000010653, 36),\n",
       " (1000010667, 4),\n",
       " (1000004079, 4),\n",
       " (1000004141, 2),\n",
       " (1000010683, 2),\n",
       " (1000015309, 2),\n",
       " (1000018290, 2),\n",
       " (1000018294, 2),\n",
       " (1000018306, 1),\n",
       " (1000013922, 1)]"
      ]
     },
     "execution_count": 16,
     "metadata": {},
     "output_type": "execute_result"
    }
   ],
   "source": [
    "categories_counts = Counter(category_ids).most_common()\n",
    "categories_counts[:10]"
   ]
  },
  {
   "cell_type": "code",
   "execution_count": 17,
   "metadata": {},
   "outputs": [
    {
     "data": {
      "text/plain": [
       "36"
      ]
     },
     "execution_count": 17,
     "metadata": {},
     "output_type": "execute_result"
    }
   ],
   "source": [
    "len(categories_counts)"
   ]
  }
 ],
 "metadata": {
  "kernelspec": {
   "display_name": "Python 2",
   "language": "python",
   "name": "python2"
  },
  "language_info": {
   "codemirror_mode": {
    "name": "ipython",
    "version": 2
   },
   "file_extension": ".py",
   "mimetype": "text/x-python",
   "name": "python",
   "nbconvert_exporter": "python",
   "pygments_lexer": "ipython2",
   "version": "2.7.10"
  }
 },
 "nbformat": 4,
 "nbformat_minor": 2
}
