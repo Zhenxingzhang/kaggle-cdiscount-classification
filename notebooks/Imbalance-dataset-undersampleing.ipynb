{
 "cells": [
  {
   "cell_type": "code",
   "execution_count": 1,
   "metadata": {},
   "outputs": [],
   "source": [
    "import bson\n",
    "from tqdm import tqdm\n",
    "from collections import Counter"
   ]
  },
  {
   "cell_type": "code",
   "execution_count": 2,
   "metadata": {},
   "outputs": [],
   "source": [
    "bson_path = \"/data/data/train_example.bson\"\n",
    "n = 82"
   ]
  },
  {
   "cell_type": "code",
   "execution_count": 3,
   "metadata": {},
   "outputs": [
    {
     "name": "stderr",
     "output_type": "stream",
     "text": [
      "100%|██████████| 82/82 [00:00<00:00, 16572.68it/s]\n"
     ]
    }
   ],
   "source": [
    "data = bson.decode_file_iter(open(bson_path, 'rb'))\n",
    "\n",
    "category_ids = []\n",
    "for c, d in tqdm(enumerate(data), total=n):\n",
    "    category_ids.append(d[\"category_id\"])"
   ]
  },
  {
   "cell_type": "code",
   "execution_count": 4,
   "metadata": {},
   "outputs": [
    {
     "data": {
      "text/plain": [
       "[(1000010653, 36),\n",
       " (1000010667, 4),\n",
       " (1000004079, 4),\n",
       " (1000004141, 2),\n",
       " (1000010683, 2),\n",
       " (1000015309, 2),\n",
       " (1000018290, 2),\n",
       " (1000018294, 2),\n",
       " (1000018306, 1),\n",
       " (1000013922, 1)]"
      ]
     },
     "execution_count": 4,
     "metadata": {},
     "output_type": "execute_result"
    }
   ],
   "source": [
    "categories_counts = Counter(category_ids).most_common()\n",
    "categories_counts[:10]"
   ]
  },
  {
   "cell_type": "code",
   "execution_count": 6,
   "metadata": {},
   "outputs": [
    {
     "data": {
      "text/plain": [
       "36"
      ]
     },
     "execution_count": 6,
     "metadata": {},
     "output_type": "execute_result"
    }
   ],
   "source": [
    "len(categories_counts)"
   ]
  },
  {
   "cell_type": "code",
   "execution_count": 8,
   "metadata": {},
   "outputs": [],
   "source": [
    "def one_hot_label_encoder(csv_path):\n",
    "    _category_labels = pd.read_csv(csv_path, dtype={'category_id': np.str})\n",
    "    _lb = preprocessing.LabelBinarizer()\n",
    "    _lb.fit(_category_labels['category_id'])\n",
    "\n",
    "    def find_max_idx(lb_vec):\n",
    "        _lb_vector = lb_vec.reshape(-1).tolist()\n",
    "        return _lb_vector.index(max(_lb_vector))\n",
    "\n",
    "    def encode(lbs_str):\n",
    "        _lbs_vector = np.asarray(_lb.transform(lbs_str), dtype=np.float32)\n",
    "        return np.apply_along_axis(find_max_idx, 1, _lbs_vector)\n",
    "\n",
    "    def decode(one_hots):\n",
    "        # _lbs_vector = label_vector(one_hots)\n",
    "        return _lb.inverse_transform(np.array(one_hots))\n",
    "\n",
    "    return encode, decode\n",
    "\n",
    "one_hot_encoder, _ = one_hot_label_encoder(csv_path=\"/data/data/category_names.csv\")\n",
    "\n",
    "def cal_weight(t):\n",
    "    weight = float(79640) / t[1]\n",
    "    weight = weight if weight < 20 else 20\n",
    "    return (one_hot_encoder([str(t[0])])[0], round(weight,4))"
   ]
  },
  {
   "cell_type": "code",
   "execution_count": 9,
   "metadata": {},
   "outputs": [],
   "source": [
    "class_weight = map(cal_weight, categories_counts)"
   ]
  },
  {
   "cell_type": "code",
   "execution_count": 11,
   "metadata": {},
   "outputs": [
    {
     "data": {
      "text/plain": [
       "[(1000010653, 20.0),\n",
       " (1000010667, 20.0),\n",
       " (1000004079, 20.0),\n",
       " (1000004141, 20.0),\n",
       " (1000010683, 20.0),\n",
       " (1000015309, 20.0),\n",
       " (1000018290, 20.0),\n",
       " (1000018294, 20.0),\n",
       " (1000018306, 20.0),\n",
       " (1000013922, 20.0),\n",
       " (1000012993, 20.0),\n",
       " (1000003977, 20.0),\n",
       " (1000012558, 20.0),\n",
       " (1000010641, 20.0),\n",
       " (1000010645, 20.0),\n",
       " (1000005910, 20.0),\n",
       " (1000010647, 20.0),\n",
       " (1000011423, 20.0),\n",
       " (1000005796, 20.0),\n",
       " (1000015539, 20.0),\n",
       " (1000014396, 20.0),\n",
       " (1000012989, 20.0),\n",
       " (1000007361, 20.0),\n",
       " (1000001859, 20.0),\n",
       " (1000003787, 20.0),\n",
       " (1000010061, 20.0),\n",
       " (1000010961, 20.0),\n",
       " (1000010706, 20.0),\n",
       " (1000014287, 20.0),\n",
       " (1000010461, 20.0),\n",
       " (1000007138, 20.0),\n",
       " (1000014053, 20.0),\n",
       " (1000005990, 20.0),\n",
       " (1000005744, 20.0),\n",
       " (1000004085, 20.0),\n",
       " (1000003191, 20.0)]"
      ]
     },
     "execution_count": 11,
     "metadata": {},
     "output_type": "execute_result"
    }
   ],
   "source": [
    "class_weight[-10:]"
   ]
  }
 ],
 "metadata": {
  "kernelspec": {
   "display_name": "Python 2",
   "language": "python",
   "name": "python2"
  },
  "language_info": {
   "codemirror_mode": {
    "name": "ipython",
    "version": 2
   },
   "file_extension": ".py",
   "mimetype": "text/x-python",
   "name": "python",
   "nbconvert_exporter": "python",
   "pygments_lexer": "ipython2",
   "version": "2.7.10"
  }
 },
 "nbformat": 4,
 "nbformat_minor": 2
}
